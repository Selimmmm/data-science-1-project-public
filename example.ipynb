{
 "cells": [
  {
   "cell_type": "code",
   "execution_count": 1,
   "id": "cecbbf87",
   "metadata": {},
   "outputs": [
    {
     "name": "stdout",
     "output_type": "stream",
     "text": [
      "1.4.1\n"
     ]
    }
   ],
   "source": [
    "import datetime\n",
    "import matplotlib.pyplot as plt\n",
    "\n",
    "import numpy as np\n",
    "import pandas as pd\n",
    "\n",
    "print(pd.__version__)\n",
    "\n",
    "\n",
    "from sklearn.model_selection import train_test_split\n",
    "from sklearn.linear_model import LinearRegression\n",
    "\n",
    "\n",
    "#################################\n",
    "# NE PAS RETIRER CETTE LIGNE\n",
    "#################################\n",
    "np.random.seed(42)"
   ]
  },
  {
   "cell_type": "code",
   "execution_count": 7,
   "id": "4fc6b302",
   "metadata": {},
   "outputs": [
    {
     "data": {
      "text/plain": [
       "array(['1056', '2600', '1440', ..., '1133 - 1384', '774', '4689'],\n",
       "      dtype=object)"
      ]
     },
     "execution_count": 7,
     "metadata": {},
     "output_type": "execute_result"
    }
   ],
   "source": [
    "df = pd.read_csv(\"data/dataset.csv\")\n",
    "df['total_sqft'].unique()"
   ]
  },
  {
   "cell_type": "code",
   "execution_count": 2,
   "id": "b1c54774",
   "metadata": {},
   "outputs": [
    {
     "name": "stdout",
     "output_type": "stream",
     "text": [
      "0.04572072072072072\n"
     ]
    },
    {
     "data": {
      "text/plain": [
       "[<matplotlib.lines.Line2D at 0x7fb562aeb610>]"
      ]
     },
     "execution_count": 2,
     "metadata": {},
     "output_type": "execute_result"
    },
    {
     "data": {
      "image/png": "[encoded data removed]",
      "text/plain": [
       "<Figure size 432x288 with 1 Axes>"
      ]
     },
     "metadata": {
      "needs_background": "light"
     },
     "output_type": "display_data"
    }
   ],
   "source": [
    "# On lit le dataset\n",
    "df = pd.read_csv(\"data/dataset.csv\")\n",
    "cols = ['balcony', 'price']\n",
    "df = df[cols]\n",
    "\n",
    "\n",
    "# On filtre les lignes avec des valeurs nulles\n",
    "df[\"has_null\"] = df.isnull().any(axis=1)\n",
    "print(df[\"has_null\"].sum() / len(df))\n",
    "df = df[~df.has_null]\n",
    "\n",
    "\n",
    "# Train et Test\n",
    "df_train, df_test = train_test_split(\n",
    "    df, train_size = 0.9, test_size = 0.1, random_state=42\n",
    ")\n",
    "\n",
    "y_train = df_train.pop('price')\n",
    "X_train = df_train\n",
    "\n",
    "y_test = df_test.pop('price')\n",
    "X_test = df_test\n",
    "\n",
    "# On fit (=apprendre) sur le train\n",
    "lm = LinearRegression(\n",
    "    fit_intercept=False # on fit un modèle : Y=a*x (pas d'intercept)\n",
    ")\n",
    "lm.fit(X_train, y_train)\n",
    "\n",
    "# Prédiction sur le test\n",
    "y_pred_test = lm.predict(X_test)\n",
    "plt.scatter(X_test['balcony'], y_test)\n",
    "plt.plot(X_test['balcony'], y_pred_test, color='red')"
   ]
  },
  {
   "cell_type": "code",
   "execution_count": null,
   "id": "2e21778a",
   "metadata": {},
   "outputs": [],
   "source": []
  }
 ],
 "metadata": {
  "kernelspec": {
   "display_name": "Python 3 (ipykernel)",
   "language": "python",
   "name": "python3"
  },
  "language_info": {
   "codemirror_mode": {
    "name": "ipython",
    "version": 3
   },
   "file_extension": ".py",
   "mimetype": "text/x-python",
   "name": "python",
   "nbconvert_exporter": "python",
   "pygments_lexer": "ipython3",
   "version": "3.9.7"
  }
 },
 "nbformat": 4,
 "nbformat_minor": 5
}
